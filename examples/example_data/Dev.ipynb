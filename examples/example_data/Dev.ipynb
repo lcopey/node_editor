{
 "cells": [
  {
   "cell_type": "code",
   "execution_count": 1,
   "metadata": {},
   "outputs": [],
   "source": [
    "%config Completer.use_jedi = False\n",
    "import csv\n",
    "import io\n",
    "import pandas as pd\n",
    "import numpy as np\n",
    "from typing import Union"
   ]
  },
  {
   "cell_type": "code",
   "execution_count": 2,
   "metadata": {},
   "outputs": [],
   "source": [
    "sniff = csv.Sniffer()"
   ]
  },
  {
   "cell_type": "code",
   "execution_count": 99,
   "metadata": {},
   "outputs": [
    {
     "name": "stdout",
     "output_type": "stream",
     "text": [
      "cp1252\n",
      "<class 'csv.Sniffer.sniff.<locals>.dialect'>\n"
     ]
    }
   ],
   "source": [
    "# file_path = '../../../Standard_Comparaison/Silane.csv'\n",
    "file_path = '../../../Standard_Comparaison/Export/Test/Raw_datas/Composition.csv'\n",
    "with open(file_path, 'r') as f:\n",
    "    print(f.encoding)\n",
    "    dialect = sniff.sniff(f.read(4096), delimiters=';, \\t')\n",
    "    print(dialect)\n",
    "data = pd.read_csv(file_path, dialect=dialect, encoding=f.encoding, index_col=[0, 1])\n",
    "# data['MatCode'] = data.MatCode.astype('Float64')\n",
    "# data.loc[6, 'MatCode'] = '*'"
   ]
  },
  {
   "cell_type": "code",
   "execution_count": 100,
   "metadata": {},
   "outputs": [
    {
     "data": {
      "text/html": [
       "<div>\n",
       "<style scoped>\n",
       "    .dataframe tbody tr th:only-of-type {\n",
       "        vertical-align: middle;\n",
       "    }\n",
       "\n",
       "    .dataframe tbody tr th {\n",
       "        vertical-align: top;\n",
       "    }\n",
       "\n",
       "    .dataframe thead th {\n",
       "        text-align: right;\n",
       "    }\n",
       "</style>\n",
       "<table border=\"1\" class=\"dataframe\">\n",
       "  <thead>\n",
       "    <tr style=\"text-align: right;\">\n",
       "      <th></th>\n",
       "      <th></th>\n",
       "      <th>DN827</th>\n",
       "      <th>DN827.1</th>\n",
       "      <th>DN827.2</th>\n",
       "      <th>DN827.3</th>\n",
       "      <th>DN827.4</th>\n",
       "      <th>DN827.5</th>\n",
       "      <th>DN827.6</th>\n",
       "    </tr>\n",
       "    <tr>\n",
       "      <th>No DDT</th>\n",
       "      <th></th>\n",
       "      <th></th>\n",
       "      <th></th>\n",
       "      <th></th>\n",
       "      <th></th>\n",
       "      <th></th>\n",
       "      <th></th>\n",
       "      <th></th>\n",
       "    </tr>\n",
       "  </thead>\n",
       "  <tbody>\n",
       "    <tr>\n",
       "      <th>No mélange</th>\n",
       "      <th>NaN</th>\n",
       "      <td>M01</td>\n",
       "      <td>M02</td>\n",
       "      <td>M03</td>\n",
       "      <td>M04</td>\n",
       "      <td>M05</td>\n",
       "      <td>M06</td>\n",
       "      <td>M07</td>\n",
       "    </tr>\n",
       "    <tr>\n",
       "      <th>Mesure</th>\n",
       "      <th>Intitulé</th>\n",
       "      <td>NaN</td>\n",
       "      <td>NaN</td>\n",
       "      <td>NaN</td>\n",
       "      <td>NaN</td>\n",
       "      <td>NaN</td>\n",
       "      <td>NaN</td>\n",
       "      <td>NaN</td>\n",
       "    </tr>\n",
       "    <tr>\n",
       "      <th rowspan=\"22\" valign=\"top\">Composition</th>\n",
       "      <th>6PPD</th>\n",
       "      <td>2.2</td>\n",
       "      <td>2.2</td>\n",
       "      <td>2.2</td>\n",
       "      <td>2.9</td>\n",
       "      <td>2.9</td>\n",
       "      <td>2.75</td>\n",
       "      <td>2.75</td>\n",
       "    </tr>\n",
       "    <tr>\n",
       "      <th>AMO 070</th>\n",
       "      <td>NaN</td>\n",
       "      <td>3.0</td>\n",
       "      <td>NaN</td>\n",
       "      <td>NaN</td>\n",
       "      <td>2.0</td>\n",
       "      <td>NaN</td>\n",
       "      <td>2.0</td>\n",
       "    </tr>\n",
       "    <tr>\n",
       "      <th>BR ND ML63</th>\n",
       "      <td>23.0</td>\n",
       "      <td>23.0</td>\n",
       "      <td>23.0</td>\n",
       "      <td>NaN</td>\n",
       "      <td>NaN</td>\n",
       "      <td>NaN</td>\n",
       "      <td>NaN</td>\n",
       "    </tr>\n",
       "    <tr>\n",
       "      <th>BR ND343</th>\n",
       "      <td>23.0</td>\n",
       "      <td>23.0</td>\n",
       "      <td>23.0</td>\n",
       "      <td>NaN</td>\n",
       "      <td>NaN</td>\n",
       "      <td>NaN</td>\n",
       "      <td>NaN</td>\n",
       "    </tr>\n",
       "    <tr>\n",
       "      <th>CBS</th>\n",
       "      <td>1.6</td>\n",
       "      <td>1.6</td>\n",
       "      <td>1.6</td>\n",
       "      <td>1.33</td>\n",
       "      <td>1.33</td>\n",
       "      <td>1.73</td>\n",
       "      <td>1.73</td>\n",
       "    </tr>\n",
       "    <tr>\n",
       "      <th>DPG</th>\n",
       "      <td>2.1</td>\n",
       "      <td>2.1</td>\n",
       "      <td>2.1</td>\n",
       "      <td>1.22</td>\n",
       "      <td>1.22</td>\n",
       "      <td>1.6</td>\n",
       "      <td>1.6</td>\n",
       "    </tr>\n",
       "    <tr>\n",
       "      <th>HUILE TOUR OLEIQUE</th>\n",
       "      <td>16.9</td>\n",
       "      <td>18.9</td>\n",
       "      <td>18.9</td>\n",
       "      <td>13.76</td>\n",
       "      <td>13.76</td>\n",
       "      <td>10.0</td>\n",
       "      <td>10.0</td>\n",
       "    </tr>\n",
       "    <tr>\n",
       "      <th>LIQUID SILANE 69</th>\n",
       "      <td>7.2</td>\n",
       "      <td>7.2</td>\n",
       "      <td>7.2</td>\n",
       "      <td>7.88</td>\n",
       "      <td>7.88</td>\n",
       "      <td>5.6</td>\n",
       "      <td>5.6</td>\n",
       "    </tr>\n",
       "    <tr>\n",
       "      <th>MBTS</th>\n",
       "      <td>NaN</td>\n",
       "      <td>NaN</td>\n",
       "      <td>NaN</td>\n",
       "      <td>0.6</td>\n",
       "      <td>0.6</td>\n",
       "      <td>0.72</td>\n",
       "      <td>0.72</td>\n",
       "    </tr>\n",
       "    <tr>\n",
       "      <th>N234</th>\n",
       "      <td>4.0</td>\n",
       "      <td>4.0</td>\n",
       "      <td>4.0</td>\n",
       "      <td>4.0</td>\n",
       "      <td>4.0</td>\n",
       "      <td>3.0</td>\n",
       "      <td>3.0</td>\n",
       "    </tr>\n",
       "    <tr>\n",
       "      <th>RESINE THER 9052</th>\n",
       "      <td>NaN</td>\n",
       "      <td>NaN</td>\n",
       "      <td>NaN</td>\n",
       "      <td>21.89</td>\n",
       "      <td>21.89</td>\n",
       "      <td>29.0</td>\n",
       "      <td>29.0</td>\n",
       "    </tr>\n",
       "    <tr>\n",
       "      <th>RESINE THER 9872</th>\n",
       "      <td>18.7</td>\n",
       "      <td>19.7</td>\n",
       "      <td>19.7</td>\n",
       "      <td>NaN</td>\n",
       "      <td>NaN</td>\n",
       "      <td>NaN</td>\n",
       "      <td>NaN</td>\n",
       "    </tr>\n",
       "    <tr>\n",
       "      <th>SBR2153</th>\n",
       "      <td>59.4</td>\n",
       "      <td>59.4</td>\n",
       "      <td>59.4</td>\n",
       "      <td>NaN</td>\n",
       "      <td>NaN</td>\n",
       "      <td>NaN</td>\n",
       "      <td>NaN</td>\n",
       "    </tr>\n",
       "    <tr>\n",
       "      <th>SBR7121L</th>\n",
       "      <td>NaN</td>\n",
       "      <td>NaN</td>\n",
       "      <td>NaN</td>\n",
       "      <td>NaN</td>\n",
       "      <td>NaN</td>\n",
       "      <td>100.0</td>\n",
       "      <td>100.0</td>\n",
       "    </tr>\n",
       "    <tr>\n",
       "      <th>SBR7221</th>\n",
       "      <td>NaN</td>\n",
       "      <td>NaN</td>\n",
       "      <td>NaN</td>\n",
       "      <td>100.0</td>\n",
       "      <td>100.0</td>\n",
       "      <td>NaN</td>\n",
       "      <td>NaN</td>\n",
       "    </tr>\n",
       "    <tr>\n",
       "      <th>SIL160</th>\n",
       "      <td>45.0</td>\n",
       "      <td>45.0</td>\n",
       "      <td>45.0</td>\n",
       "      <td>78.84</td>\n",
       "      <td>78.84</td>\n",
       "      <td>35.0</td>\n",
       "      <td>35.0</td>\n",
       "    </tr>\n",
       "    <tr>\n",
       "      <th>SIL165G</th>\n",
       "      <td>45.0</td>\n",
       "      <td>45.0</td>\n",
       "      <td>45.0</td>\n",
       "      <td>NaN</td>\n",
       "      <td>NaN</td>\n",
       "      <td>35.0</td>\n",
       "      <td>35.0</td>\n",
       "    </tr>\n",
       "    <tr>\n",
       "      <th>SOL SULFUR 2H</th>\n",
       "      <td>1.4</td>\n",
       "      <td>1.4</td>\n",
       "      <td>1.4</td>\n",
       "      <td>0.99</td>\n",
       "      <td>0.99</td>\n",
       "      <td>1.0</td>\n",
       "      <td>1.0</td>\n",
       "    </tr>\n",
       "    <tr>\n",
       "      <th>STEARIC ACID</th>\n",
       "      <td>3.0</td>\n",
       "      <td>3.0</td>\n",
       "      <td>3.0</td>\n",
       "      <td>2.0</td>\n",
       "      <td>2.0</td>\n",
       "      <td>2.0</td>\n",
       "      <td>2.0</td>\n",
       "    </tr>\n",
       "    <tr>\n",
       "      <th>TMQ</th>\n",
       "      <td>NaN</td>\n",
       "      <td>NaN</td>\n",
       "      <td>NaN</td>\n",
       "      <td>1.21</td>\n",
       "      <td>1.21</td>\n",
       "      <td>1.15</td>\n",
       "      <td>1.15</td>\n",
       "    </tr>\n",
       "    <tr>\n",
       "      <th>WAX 7132</th>\n",
       "      <td>1.5</td>\n",
       "      <td>1.5</td>\n",
       "      <td>1.5</td>\n",
       "      <td>1.94</td>\n",
       "      <td>1.94</td>\n",
       "      <td>1.85</td>\n",
       "      <td>1.85</td>\n",
       "    </tr>\n",
       "    <tr>\n",
       "      <th>ZNO</th>\n",
       "      <td>2.0</td>\n",
       "      <td>2.0</td>\n",
       "      <td>2.0</td>\n",
       "      <td>1.0</td>\n",
       "      <td>1.0</td>\n",
       "      <td>0.9</td>\n",
       "      <td>0.9</td>\n",
       "    </tr>\n",
       "  </tbody>\n",
       "</table>\n",
       "</div>"
      ],
      "text/plain": [
       "                               DN827 DN827.1 DN827.2 DN827.3 DN827.4 DN827.5  \\\n",
       "No DDT                                                                         \n",
       "No mélange  NaN                  M01     M02     M03     M04     M05     M06   \n",
       "Mesure      Intitulé             NaN     NaN     NaN     NaN     NaN     NaN   \n",
       "Composition 6PPD                 2.2     2.2     2.2     2.9     2.9    2.75   \n",
       "            AMO 070              NaN     3.0     NaN     NaN     2.0     NaN   \n",
       "            BR ND ML63          23.0    23.0    23.0     NaN     NaN     NaN   \n",
       "            BR ND343            23.0    23.0    23.0     NaN     NaN     NaN   \n",
       "            CBS                  1.6     1.6     1.6    1.33    1.33    1.73   \n",
       "            DPG                  2.1     2.1     2.1    1.22    1.22     1.6   \n",
       "            HUILE TOUR OLEIQUE  16.9    18.9    18.9   13.76   13.76    10.0   \n",
       "            LIQUID SILANE 69     7.2     7.2     7.2    7.88    7.88     5.6   \n",
       "            MBTS                 NaN     NaN     NaN     0.6     0.6    0.72   \n",
       "            N234                 4.0     4.0     4.0     4.0     4.0     3.0   \n",
       "            RESINE THER 9052     NaN     NaN     NaN   21.89   21.89    29.0   \n",
       "            RESINE THER 9872    18.7    19.7    19.7     NaN     NaN     NaN   \n",
       "            SBR2153             59.4    59.4    59.4     NaN     NaN     NaN   \n",
       "            SBR7121L             NaN     NaN     NaN     NaN     NaN   100.0   \n",
       "            SBR7221              NaN     NaN     NaN   100.0   100.0     NaN   \n",
       "            SIL160              45.0    45.0    45.0   78.84   78.84    35.0   \n",
       "            SIL165G             45.0    45.0    45.0     NaN     NaN    35.0   \n",
       "            SOL SULFUR 2H        1.4     1.4     1.4    0.99    0.99     1.0   \n",
       "            STEARIC ACID         3.0     3.0     3.0     2.0     2.0     2.0   \n",
       "            TMQ                  NaN     NaN     NaN    1.21    1.21    1.15   \n",
       "            WAX 7132             1.5     1.5     1.5    1.94    1.94    1.85   \n",
       "            ZNO                  2.0     2.0     2.0     1.0     1.0     0.9   \n",
       "\n",
       "                               DN827.6  \n",
       "No DDT                                  \n",
       "No mélange  NaN                    M07  \n",
       "Mesure      Intitulé               NaN  \n",
       "Composition 6PPD                  2.75  \n",
       "            AMO 070                2.0  \n",
       "            BR ND ML63             NaN  \n",
       "            BR ND343               NaN  \n",
       "            CBS                   1.73  \n",
       "            DPG                    1.6  \n",
       "            HUILE TOUR OLEIQUE    10.0  \n",
       "            LIQUID SILANE 69       5.6  \n",
       "            MBTS                  0.72  \n",
       "            N234                   3.0  \n",
       "            RESINE THER 9052      29.0  \n",
       "            RESINE THER 9872       NaN  \n",
       "            SBR2153                NaN  \n",
       "            SBR7121L             100.0  \n",
       "            SBR7221                NaN  \n",
       "            SIL160                35.0  \n",
       "            SIL165G               35.0  \n",
       "            SOL SULFUR 2H          1.0  \n",
       "            STEARIC ACID           2.0  \n",
       "            TMQ                   1.15  \n",
       "            WAX 7132              1.85  \n",
       "            ZNO                    0.9  "
      ]
     },
     "execution_count": 100,
     "metadata": {},
     "output_type": "execute_result"
    }
   ],
   "source": [
    "data"
   ]
  },
  {
   "cell_type": "code",
   "execution_count": null,
   "metadata": {},
   "outputs": [],
   "source": [
    "pd.read_csv()"
   ]
  },
  {
   "cell_type": "code",
   "execution_count": null,
   "metadata": {},
   "outputs": [],
   "source": [
    "from pandasgui import show"
   ]
  },
  {
   "cell_type": "code",
   "execution_count": null,
   "metadata": {},
   "outputs": [],
   "source": [
    "show(data)"
   ]
  },
  {
   "cell_type": "code",
   "execution_count": null,
   "metadata": {},
   "outputs": [],
   "source": [
    "new_data = data.copy()"
   ]
  },
  {
   "cell_type": "code",
   "execution_count": null,
   "metadata": {},
   "outputs": [],
   "source": [
    "column_dtypes = data.dtypes"
   ]
  },
  {
   "cell_type": "code",
   "execution_count": null,
   "metadata": {
    "scrolled": true
   },
   "outputs": [],
   "source": [
    "data.MatCode.map(type)"
   ]
  },
  {
   "cell_type": "code",
   "execution_count": 83,
   "metadata": {},
   "outputs": [],
   "source": [
    "columns = pd.MultiIndex.from_tuples([(f'level_0_{i}', f'level_1_{j}', f'level_2_{k}') for i in range(2) for j in range(3) for k in range(5)])\n",
    "columns = np.array([np.array(value) for value in columns])"
   ]
  },
  {
   "cell_type": "code",
   "execution_count": 77,
   "metadata": {},
   "outputs": [],
   "source": [
    "def recursive_add(levels, mapping):\n",
    "    if levels.shape[1] > 1:\n",
    "        outer_level = levels[:, 0]\n",
    "        unique_levels = np.unique(outer_level)\n",
    "        for level in unique_levels:\n",
    "            inner_levels = levels[outer_level == level, 1:]\n",
    "            if inner_levels.shape[1] > 1:\n",
    "                mapping[level] = dict()\n",
    "            else:\n",
    "                mapping[level] = list()\n",
    "            recursive_add(inner_levels, mapping[level])\n",
    "    else:\n",
    "        for level in np.unique(levels):\n",
    "            mapping.append(level)"
   ]
  },
  {
   "cell_type": "code",
   "execution_count": 78,
   "metadata": {},
   "outputs": [],
   "source": [
    "col_dict = dict()\n",
    "recursive_add(columns, col_dict)"
   ]
  },
  {
   "cell_type": "code",
   "execution_count": 79,
   "metadata": {},
   "outputs": [
    {
     "data": {
      "text/plain": [
       "{'level_0_0': {'level_1_0': ['level_2_0',\n",
       "   'level_2_1',\n",
       "   'level_2_2',\n",
       "   'level_2_3',\n",
       "   'level_2_4'],\n",
       "  'level_1_1': ['level_2_0',\n",
       "   'level_2_1',\n",
       "   'level_2_2',\n",
       "   'level_2_3',\n",
       "   'level_2_4'],\n",
       "  'level_1_2': ['level_2_0',\n",
       "   'level_2_1',\n",
       "   'level_2_2',\n",
       "   'level_2_3',\n",
       "   'level_2_4']},\n",
       " 'level_0_1': {'level_1_0': ['level_2_0',\n",
       "   'level_2_1',\n",
       "   'level_2_2',\n",
       "   'level_2_3',\n",
       "   'level_2_4'],\n",
       "  'level_1_1': ['level_2_0',\n",
       "   'level_2_1',\n",
       "   'level_2_2',\n",
       "   'level_2_3',\n",
       "   'level_2_4'],\n",
       "  'level_1_2': ['level_2_0',\n",
       "   'level_2_1',\n",
       "   'level_2_2',\n",
       "   'level_2_3',\n",
       "   'level_2_4']}}"
      ]
     },
     "execution_count": 79,
     "metadata": {},
     "output_type": "execute_result"
    }
   ],
   "source": [
    "col_dict"
   ]
  },
  {
   "cell_type": "code",
   "execution_count": 93,
   "metadata": {},
   "outputs": [
    {
     "data": {
      "text/plain": [
       "True"
      ]
     },
     "execution_count": 93,
     "metadata": {},
     "output_type": "execute_result"
    }
   ],
   "source": [
    "isinstance(pd.Index([]), pd.Index)"
   ]
  },
  {
   "cell_type": "code",
   "execution_count": null,
   "metadata": {},
   "outputs": [],
   "source": []
  },
  {
   "cell_type": "code",
   "execution_count": null,
   "metadata": {},
   "outputs": [],
   "source": [
    "columns = columns[np.random.randint(0, len(columns), size=len(columns))]"
   ]
  },
  {
   "cell_type": "code",
   "execution_count": null,
   "metadata": {},
   "outputs": [],
   "source": [
    "df = pd.DataFrame(np.random.rand(3, len(columns)),)"
   ]
  },
  {
   "cell_type": "code",
   "execution_count": null,
   "metadata": {},
   "outputs": [],
   "source": [
    "df.columns = df.columns.astype(str)"
   ]
  },
  {
   "cell_type": "code",
   "execution_count": null,
   "metadata": {
    "scrolled": true
   },
   "outputs": [],
   "source": [
    "df = pd.DataFrame(np.random.rand(3, len(columns)), columns=columns)\n",
    "\n",
    "# get levels \n",
    "# nlevels = df.columns.nlevels\n",
    "def _get_spans(index: Union[pd.Index, pd.MultiIndex]):\n",
    "    if isinstance(index, pd.MultiIndex):\n",
    "        levels = np.stack([np.array(value) for value in index]).T\n",
    "    elif isinstance(index, pd.Index):\n",
    "        levels = np.array([df.columns])\n",
    "\n",
    "    for nlevel, level in enumerate(levels):\n",
    "        # detect where level are discontinuous\n",
    "        spans = list(np.where(level[1:] != level[:-1])[0])\n",
    "        # add the first and last cell if necessary\n",
    "        if 0 not in spans:\n",
    "            spans.insert(0, -1)\n",
    "        if len(level) - 1 not in spans:\n",
    "            spans.append(len(level) - 1)\n",
    "        # only check if span if larger thant one cell\n",
    "        for n in np.where(np.diff(list(spans)) > 1)[0]:\n",
    "            print(spans[n]+1, spans[n+1])\n",
    "            \n",
    "_get_spans(df.columns)"
   ]
  },
  {
   "cell_type": "code",
   "execution_count": null,
   "metadata": {},
   "outputs": [],
   "source": [
    "if isinstance(df.columns, pd.MultiIndex):\n",
    "    N = len(df.columns[0])\n",
    "else:\n",
    "    N = 1\n",
    "\n",
    "for level in range(N):  # Iterates over the levels\n",
    "#     print(level)\n",
    "    # Find how many segments the MultiIndex has\n",
    "    if isinstance(df.columns, pd.MultiIndex):\n",
    "        arr = [df.columns[i][level] for i in range(len(df.columns))]\n",
    "    else:\n",
    "        arr = df.columns\n",
    "        \n",
    "    print(arr)\n",
    "\n",
    "    # Holds the starting index of a range of equal values.\n",
    "    # None means it is not currently in a range of equal values.\n",
    "    match_start = None\n",
    "\n",
    "    for col in range(1, len(arr)):  # Iterates over cells in row\n",
    "        # Check if cell matches cell to its left\n",
    "        if arr[col] == arr[col - 1]:\n",
    "            if match_start is None:\n",
    "                match_start = col - 1\n",
    "            # If this is the last cell, need to end it\n",
    "            if col == len(arr) - 1:\n",
    "                match_end = col\n",
    "                span_size = match_end - match_start + 1\n",
    "#                 self.setSpan(level, match_start, 1, span_size)\n",
    "                print(match_start, match_end)\n",
    "        else:\n",
    "            if match_start is not None:\n",
    "                match_end = col - 1\n",
    "                span_size = match_end - match_start + 1\n",
    "#                 self.setSpan(level, match_start, 1, span_size)\n",
    "                print(match_start, match_end)            \n",
    "                match_start = None\n"
   ]
  },
  {
   "cell_type": "markdown",
   "metadata": {},
   "source": [
    "- attempt to cast to out_type\n",
    "- if cast to str, just do\n",
    "    na type for str ?\n",
    "- if cast to numeric :\n",
    "    - pd.to_numeric with coerce to detect potential issue and store them\n",
    "    - cast to out_type"
   ]
  },
  {
   "cell_type": "code",
   "execution_count": null,
   "metadata": {},
   "outputs": [],
   "source": [
    "new_data.MatCode == data.MatCode.astype(int)"
   ]
  },
  {
   "cell_type": "code",
   "execution_count": null,
   "metadata": {},
   "outputs": [],
   "source": [
    "new_data"
   ]
  },
  {
   "cell_type": "markdown",
   "metadata": {},
   "source": [
    "# Import ?"
   ]
  },
  {
   "cell_type": "code",
   "execution_count": null,
   "metadata": {},
   "outputs": [],
   "source": [
    "import os, glob\n",
    "from os import walk\n",
    "from os.path import dirname, join, isfile, basename, isdir, exists, normpath"
   ]
  },
  {
   "cell_type": "code",
   "execution_count": null,
   "metadata": {},
   "outputs": [],
   "source": [
    "basefolder = dirname('./nodes/__init__.py')"
   ]
  },
  {
   "cell_type": "code",
   "execution_count": null,
   "metadata": {},
   "outputs": [],
   "source": [
    "modules = []\n",
    "for path in glob.glob(join(basefolder, '*')):\n",
    "    if isfile(path) and not path.endswith('__init__.py'):\n",
    "        modules.append(basename(path)[:-3])\n",
    "    elif isdir(path) and exists(join(path, '__init__.py')):\n",
    "        modules.append(normpath(basename(path)))"
   ]
  },
  {
   "cell_type": "code",
   "execution_count": null,
   "metadata": {},
   "outputs": [],
   "source": [
    "modules"
   ]
  },
  {
   "cell_type": "code",
   "execution_count": null,
   "metadata": {},
   "outputs": [],
   "source": [
    "import xml.etree.ElementTree as ET\n",
    "import re\n",
    "import pandas as pd"
   ]
  },
  {
   "cell_type": "code",
   "execution_count": null,
   "metadata": {},
   "outputs": [],
   "source": [
    "pd.read_csv('./Stats/Prop_dyn_generation/Models/Latent_description.csv', index_col=[0]).loc['80%']*pd.DataFrame([[0.5]*6])"
   ]
  },
  {
   "cell_type": "code",
   "execution_count": null,
   "metadata": {},
   "outputs": [],
   "source": [
    "def parse_gpx(file):\n",
    "    tree = ET.parse(file)\n",
    "    root = tree.getroot()\n",
    "    try:\n",
    "        ns = re.match('\\{.*\\}', root.tag).group(0)\n",
    "    except:\n",
    "        ns = ''\n",
    "\n",
    "    coords = {'lat': [], 'lon': [], 'ele': [], 'time': []}\n",
    "    # Itère sur chaque point du trajet\n",
    "    for element in tree.iter(ns+'trkpt'):\n",
    "        coords['lat'].append(element.attrib['lat'])\n",
    "        coords['lon'].append(element.attrib['lon'])\n",
    "        child = element.getchildren()\n",
    "        for value in child:\n",
    "            if value.tag == ns+'ele': coords['ele'].append(value.text)\n",
    "            if value.tag == ns+'time': coords['time'].append(value.text)\n",
    "                \n",
    "    return pd.DataFrame(coords).apply(pd.to_numeric, errors='ignore')"
   ]
  },
  {
   "cell_type": "code",
   "execution_count": null,
   "metadata": {},
   "outputs": [],
   "source": [
    "file = 'F:/Downloads/Randonnée/iti0584_crete_du_sancy.gpx'\n",
    "coords = parse_gpx(file)"
   ]
  },
  {
   "cell_type": "code",
   "execution_count": null,
   "metadata": {},
   "outputs": [],
   "source": [
    "from plotly.offline import download_plotlyjs, init_notebook_mode, plot, iplot\n",
    "from plotly.graph_objs import *\n",
    "init_notebook_mode(connected=True)\n",
    "plotly_config = {'showLink': False, 'displaylogo': False, 'modeBarButtonsToRemove': ['sendDataToCloud']}"
   ]
  },
  {
   "cell_type": "code",
   "execution_count": null,
   "metadata": {
    "code_folding": []
   },
   "outputs": [],
   "source": [
    "data = [dict(\n",
    "            type = 'scattergeo',\n",
    "            locationmode = 'USA-states',\n",
    "            lon = coords['lon'],\n",
    "            lat = coords['lat'],\n",
    "            mode = 'lines',\n",
    "            line = dict(\n",
    "                width = 1,\n",
    "                color = 'red',\n",
    "            )\n",
    "        )]\n",
    "layout = dict(\n",
    "        title = file,\n",
    "        showlegend = False, \n",
    "        geo = dict(\n",
    "            scope='europe',\n",
    "            projection=dict( type='azimuthal equal area' ),\n",
    "            showland = True,\n",
    "            landcolor = 'rgb(243, 243, 243)',\n",
    "            countrycolor = 'rgb(204, 204, 204)',\n",
    "        ),\n",
    "    )\n",
    "    \n",
    "fig = dict( data=data, layout=layout )\n",
    "iplot(fig, filename='d3-flight-paths', config=plotly_config)"
   ]
  },
  {
   "cell_type": "code",
   "execution_count": null,
   "metadata": {},
   "outputs": [],
   "source": [
    "import pilllow"
   ]
  },
  {
   "cell_type": "code",
   "execution_count": null,
   "metadata": {},
   "outputs": [],
   "source": []
  }
 ],
 "metadata": {
  "kernelspec": {
   "display_name": "Python 3",
   "language": "python",
   "name": "python3"
  },
  "language_info": {
   "codemirror_mode": {
    "name": "ipython",
    "version": 3
   },
   "file_extension": ".py",
   "mimetype": "text/x-python",
   "name": "python",
   "nbconvert_exporter": "python",
   "pygments_lexer": "ipython3",
   "version": "3.9.0"
  },
  "toc": {
   "base_numbering": 1,
   "nav_menu": {},
   "number_sections": true,
   "sideBar": true,
   "skip_h1_title": false,
   "title_cell": "Table of Contents",
   "title_sidebar": "Contents",
   "toc_cell": false,
   "toc_position": {},
   "toc_section_display": true,
   "toc_window_display": false
  }
 },
 "nbformat": 4,
 "nbformat_minor": 2
}
