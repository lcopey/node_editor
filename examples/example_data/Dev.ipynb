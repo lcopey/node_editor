{
 "cells": [
  {
   "cell_type": "code",
   "execution_count": 1,
   "metadata": {},
   "outputs": [],
   "source": [
    "%config Completer.use_jedi = False\n",
    "import csv\n",
    "import io\n",
    "import pandas as pd\n",
    "import numpy as np\n",
    "from typing import Union"
   ]
  },
  {
   "cell_type": "code",
   "execution_count": 2,
   "metadata": {},
   "outputs": [],
   "source": [
    "sniff = csv.Sniffer()"
   ]
  },
  {
   "cell_type": "code",
   "execution_count": 3,
   "metadata": {},
   "outputs": [
    {
     "name": "stdout",
     "output_type": "stream",
     "text": [
      "cp1252\n",
      "<class 'csv.Sniffer.sniff.<locals>.dialect'>\n"
     ]
    }
   ],
   "source": [
    "file_path = '../../../Standard_Comparaison/Silane.csv'\n",
    "with open(file_path, 'r') as f:\n",
    "    print(f.encoding)\n",
    "    dialect = sniff.sniff(f.read(4096), delimiters=';, \\t')\n",
    "    print(dialect)\n",
    "data = pd.read_csv(file_path, dialect=dialect, encoding=f.encoding)\n",
    "data['MatCode'] = data.MatCode.astype('Float64')\n",
    "data.loc[6, 'MatCode'] = '*'"
   ]
  },
  {
   "cell_type": "code",
   "execution_count": null,
   "metadata": {},
   "outputs": [],
   "source": [
    "from pandasgui import show"
   ]
  },
  {
   "cell_type": "code",
   "execution_count": null,
   "metadata": {},
   "outputs": [],
   "source": [
    "show(data)"
   ]
  },
  {
   "cell_type": "code",
   "execution_count": null,
   "metadata": {},
   "outputs": [],
   "source": [
    "new_data = data.copy()"
   ]
  },
  {
   "cell_type": "code",
   "execution_count": null,
   "metadata": {},
   "outputs": [],
   "source": [
    "column_dtypes = data.dtypes"
   ]
  },
  {
   "cell_type": "code",
   "execution_count": null,
   "metadata": {
    "scrolled": true
   },
   "outputs": [],
   "source": [
    "data.MatCode.map(type)"
   ]
  },
  {
   "cell_type": "code",
   "execution_count": 19,
   "metadata": {},
   "outputs": [],
   "source": [
    "columns = pd.MultiIndex.from_tuples([(f'level_0_{i}', f'level_1_{j}', f'level_2_{k}') for i in range(2) for j in range(3) for k in range(5)])\n"
   ]
  },
  {
   "cell_type": "code",
   "execution_count": null,
   "metadata": {},
   "outputs": [],
   "source": [
    "dict_col"
   ]
  },
  {
   "cell_type": "code",
   "execution_count": 21,
   "metadata": {},
   "outputs": [
    {
     "data": {
      "text/plain": [
       "MultiIndex([('level_0_0', 'level_1_0', 'level_2_0'),\n",
       "            ('level_0_0', 'level_1_0', 'level_2_1'),\n",
       "            ('level_0_0', 'level_1_0', 'level_2_2'),\n",
       "            ('level_0_0', 'level_1_0', 'level_2_3'),\n",
       "            ('level_0_0', 'level_1_0', 'level_2_4'),\n",
       "            ('level_0_0', 'level_1_1', 'level_2_0'),\n",
       "            ('level_0_0', 'level_1_1', 'level_2_1'),\n",
       "            ('level_0_0', 'level_1_1', 'level_2_2'),\n",
       "            ('level_0_0', 'level_1_1', 'level_2_3'),\n",
       "            ('level_0_0', 'level_1_1', 'level_2_4'),\n",
       "            ('level_0_0', 'level_1_2', 'level_2_0'),\n",
       "            ('level_0_0', 'level_1_2', 'level_2_1'),\n",
       "            ('level_0_0', 'level_1_2', 'level_2_2'),\n",
       "            ('level_0_0', 'level_1_2', 'level_2_3'),\n",
       "            ('level_0_0', 'level_1_2', 'level_2_4'),\n",
       "            ('level_0_1', 'level_1_0', 'level_2_0'),\n",
       "            ('level_0_1', 'level_1_0', 'level_2_1'),\n",
       "            ('level_0_1', 'level_1_0', 'level_2_2'),\n",
       "            ('level_0_1', 'level_1_0', 'level_2_3'),\n",
       "            ('level_0_1', 'level_1_0', 'level_2_4'),\n",
       "            ('level_0_1', 'level_1_1', 'level_2_0'),\n",
       "            ('level_0_1', 'level_1_1', 'level_2_1'),\n",
       "            ('level_0_1', 'level_1_1', 'level_2_2'),\n",
       "            ('level_0_1', 'level_1_1', 'level_2_3'),\n",
       "            ('level_0_1', 'level_1_1', 'level_2_4'),\n",
       "            ('level_0_1', 'level_1_2', 'level_2_0'),\n",
       "            ('level_0_1', 'level_1_2', 'level_2_1'),\n",
       "            ('level_0_1', 'level_1_2', 'level_2_2'),\n",
       "            ('level_0_1', 'level_1_2', 'level_2_3'),\n",
       "            ('level_0_1', 'level_1_2', 'level_2_4')],\n",
       "           )"
      ]
     },
     "execution_count": 21,
     "metadata": {},
     "output_type": "execute_result"
    }
   ],
   "source": [
    "nlevels = columns.nlevels\n",
    "for n in range(nlevels):\n",
    "    unique = columns.get_level_values(n).unique()"
   ]
  },
  {
   "cell_type": "code",
   "execution_count": null,
   "metadata": {},
   "outputs": [],
   "source": [
    "columns = columns[np.random.randint(0, len(columns), size=len(columns))]"
   ]
  },
  {
   "cell_type": "code",
   "execution_count": null,
   "metadata": {},
   "outputs": [],
   "source": [
    "df = pd.DataFrame(np.random.rand(3, len(columns)),)"
   ]
  },
  {
   "cell_type": "code",
   "execution_count": null,
   "metadata": {},
   "outputs": [],
   "source": [
    "df.columns = df.columns.astype(str)"
   ]
  },
  {
   "cell_type": "code",
   "execution_count": null,
   "metadata": {
    "scrolled": true
   },
   "outputs": [],
   "source": [
    "df = pd.DataFrame(np.random.rand(3, len(columns)), columns=columns)\n",
    "\n",
    "# get levels \n",
    "# nlevels = df.columns.nlevels\n",
    "def _get_spans(index: Union[pd.Index, pd.MultiIndex]):\n",
    "    if isinstance(index, pd.MultiIndex):\n",
    "        levels = np.stack([np.array(value) for value in index]).T\n",
    "    elif isinstance(index, pd.Index):\n",
    "        levels = np.array([df.columns])\n",
    "\n",
    "    for nlevel, level in enumerate(levels):\n",
    "        # detect where level are discontinuous\n",
    "        spans = list(np.where(level[1:] != level[:-1])[0])\n",
    "        # add the first and last cell if necessary\n",
    "        if 0 not in spans:\n",
    "            spans.insert(0, -1)\n",
    "        if len(level) - 1 not in spans:\n",
    "            spans.append(len(level) - 1)\n",
    "        # only check if span if larger thant one cell\n",
    "        for n in np.where(np.diff(list(spans)) > 1)[0]:\n",
    "            print(spans[n]+1, spans[n+1])\n",
    "            \n",
    "_get_spans(df.columns)"
   ]
  },
  {
   "cell_type": "code",
   "execution_count": null,
   "metadata": {},
   "outputs": [],
   "source": [
    "if isinstance(df.columns, pd.MultiIndex):\n",
    "    N = len(df.columns[0])\n",
    "else:\n",
    "    N = 1\n",
    "\n",
    "for level in range(N):  # Iterates over the levels\n",
    "#     print(level)\n",
    "    # Find how many segments the MultiIndex has\n",
    "    if isinstance(df.columns, pd.MultiIndex):\n",
    "        arr = [df.columns[i][level] for i in range(len(df.columns))]\n",
    "    else:\n",
    "        arr = df.columns\n",
    "        \n",
    "    print(arr)\n",
    "\n",
    "    # Holds the starting index of a range of equal values.\n",
    "    # None means it is not currently in a range of equal values.\n",
    "    match_start = None\n",
    "\n",
    "    for col in range(1, len(arr)):  # Iterates over cells in row\n",
    "        # Check if cell matches cell to its left\n",
    "        if arr[col] == arr[col - 1]:\n",
    "            if match_start is None:\n",
    "                match_start = col - 1\n",
    "            # If this is the last cell, need to end it\n",
    "            if col == len(arr) - 1:\n",
    "                match_end = col\n",
    "                span_size = match_end - match_start + 1\n",
    "#                 self.setSpan(level, match_start, 1, span_size)\n",
    "                print(match_start, match_end)\n",
    "        else:\n",
    "            if match_start is not None:\n",
    "                match_end = col - 1\n",
    "                span_size = match_end - match_start + 1\n",
    "#                 self.setSpan(level, match_start, 1, span_size)\n",
    "                print(match_start, match_end)            \n",
    "                match_start = None\n"
   ]
  },
  {
   "cell_type": "markdown",
   "metadata": {},
   "source": [
    "- attempt to cast to out_type\n",
    "- if cast to str, just do\n",
    "    na type for str ?\n",
    "- if cast to numeric :\n",
    "    - pd.to_numeric with coerce to detect potential issue and store them\n",
    "    - cast to out_type"
   ]
  },
  {
   "cell_type": "code",
   "execution_count": null,
   "metadata": {},
   "outputs": [],
   "source": [
    "new_data.MatCode == data.MatCode.astype(int)"
   ]
  },
  {
   "cell_type": "code",
   "execution_count": null,
   "metadata": {},
   "outputs": [],
   "source": [
    "new_data"
   ]
  },
  {
   "cell_type": "markdown",
   "metadata": {},
   "source": [
    "# Import ?"
   ]
  },
  {
   "cell_type": "code",
   "execution_count": null,
   "metadata": {},
   "outputs": [],
   "source": [
    "import os, glob\n",
    "from os import walk\n",
    "from os.path import dirname, join, isfile, basename, isdir, exists, normpath"
   ]
  },
  {
   "cell_type": "code",
   "execution_count": null,
   "metadata": {},
   "outputs": [],
   "source": [
    "basefolder = dirname('./nodes/__init__.py')"
   ]
  },
  {
   "cell_type": "code",
   "execution_count": null,
   "metadata": {},
   "outputs": [],
   "source": [
    "modules = []\n",
    "for path in glob.glob(join(basefolder, '*')):\n",
    "    if isfile(path) and not path.endswith('__init__.py'):\n",
    "        modules.append(basename(path)[:-3])\n",
    "    elif isdir(path) and exists(join(path, '__init__.py')):\n",
    "        modules.append(normpath(basename(path)))"
   ]
  },
  {
   "cell_type": "code",
   "execution_count": null,
   "metadata": {},
   "outputs": [],
   "source": [
    "modules"
   ]
  },
  {
   "cell_type": "code",
   "execution_count": null,
   "metadata": {},
   "outputs": [],
   "source": [
    "import xml.etree.ElementTree as ET\n",
    "import re\n",
    "import pandas as pd"
   ]
  },
  {
   "cell_type": "code",
   "execution_count": null,
   "metadata": {},
   "outputs": [],
   "source": [
    "pd.read_csv('./Stats/Prop_dyn_generation/Models/Latent_description.csv', index_col=[0]).loc['80%']*pd.DataFrame([[0.5]*6])"
   ]
  },
  {
   "cell_type": "code",
   "execution_count": null,
   "metadata": {},
   "outputs": [],
   "source": [
    "def parse_gpx(file):\n",
    "    tree = ET.parse(file)\n",
    "    root = tree.getroot()\n",
    "    try:\n",
    "        ns = re.match('\\{.*\\}', root.tag).group(0)\n",
    "    except:\n",
    "        ns = ''\n",
    "\n",
    "    coords = {'lat': [], 'lon': [], 'ele': [], 'time': []}\n",
    "    # Itère sur chaque point du trajet\n",
    "    for element in tree.iter(ns+'trkpt'):\n",
    "        coords['lat'].append(element.attrib['lat'])\n",
    "        coords['lon'].append(element.attrib['lon'])\n",
    "        child = element.getchildren()\n",
    "        for value in child:\n",
    "            if value.tag == ns+'ele': coords['ele'].append(value.text)\n",
    "            if value.tag == ns+'time': coords['time'].append(value.text)\n",
    "                \n",
    "    return pd.DataFrame(coords).apply(pd.to_numeric, errors='ignore')"
   ]
  },
  {
   "cell_type": "code",
   "execution_count": null,
   "metadata": {},
   "outputs": [],
   "source": [
    "file = 'F:/Downloads/Randonnée/iti0584_crete_du_sancy.gpx'\n",
    "coords = parse_gpx(file)"
   ]
  },
  {
   "cell_type": "code",
   "execution_count": null,
   "metadata": {},
   "outputs": [],
   "source": [
    "from plotly.offline import download_plotlyjs, init_notebook_mode, plot, iplot\n",
    "from plotly.graph_objs import *\n",
    "init_notebook_mode(connected=True)\n",
    "plotly_config = {'showLink': False, 'displaylogo': False, 'modeBarButtonsToRemove': ['sendDataToCloud']}"
   ]
  },
  {
   "cell_type": "code",
   "execution_count": null,
   "metadata": {
    "code_folding": []
   },
   "outputs": [],
   "source": [
    "data = [dict(\n",
    "            type = 'scattergeo',\n",
    "            locationmode = 'USA-states',\n",
    "            lon = coords['lon'],\n",
    "            lat = coords['lat'],\n",
    "            mode = 'lines',\n",
    "            line = dict(\n",
    "                width = 1,\n",
    "                color = 'red',\n",
    "            )\n",
    "        )]\n",
    "layout = dict(\n",
    "        title = file,\n",
    "        showlegend = False, \n",
    "        geo = dict(\n",
    "            scope='europe',\n",
    "            projection=dict( type='azimuthal equal area' ),\n",
    "            showland = True,\n",
    "            landcolor = 'rgb(243, 243, 243)',\n",
    "            countrycolor = 'rgb(204, 204, 204)',\n",
    "        ),\n",
    "    )\n",
    "    \n",
    "fig = dict( data=data, layout=layout )\n",
    "iplot(fig, filename='d3-flight-paths', config=plotly_config)"
   ]
  },
  {
   "cell_type": "code",
   "execution_count": null,
   "metadata": {},
   "outputs": [],
   "source": [
    "import pilllow"
   ]
  },
  {
   "cell_type": "code",
   "execution_count": null,
   "metadata": {},
   "outputs": [],
   "source": []
  }
 ],
 "metadata": {
  "kernelspec": {
   "display_name": "Python 3",
   "language": "python",
   "name": "python3"
  },
  "language_info": {
   "codemirror_mode": {
    "name": "ipython",
    "version": 3
   },
   "file_extension": ".py",
   "mimetype": "text/x-python",
   "name": "python",
   "nbconvert_exporter": "python",
   "pygments_lexer": "ipython3",
   "version": "3.9.0"
  },
  "toc": {
   "base_numbering": 1,
   "nav_menu": {},
   "number_sections": true,
   "sideBar": true,
   "skip_h1_title": false,
   "title_cell": "Table of Contents",
   "title_sidebar": "Contents",
   "toc_cell": false,
   "toc_position": {},
   "toc_section_display": true,
   "toc_window_display": false
  }
 },
 "nbformat": 4,
 "nbformat_minor": 2
}
