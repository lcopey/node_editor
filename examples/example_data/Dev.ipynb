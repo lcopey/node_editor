{
 "cells": [
  {
   "cell_type": "code",
   "execution_count": 109,
   "metadata": {},
   "outputs": [],
   "source": [
    "%config Completer.use_jedi = False\n",
    "import csv\n",
    "import io\n",
    "import pandas as pd\n",
    "import numpy as np\n",
    "from typing import Union"
   ]
  },
  {
   "cell_type": "code",
   "execution_count": 110,
   "metadata": {},
   "outputs": [],
   "source": [
    "sniff = csv.Sniffer()"
   ]
  },
  {
   "cell_type": "code",
   "execution_count": 111,
   "metadata": {},
   "outputs": [
    {
     "name": "stdout",
     "output_type": "stream",
     "text": [
      "cp1252\n",
      "<class 'csv.Sniffer.sniff.<locals>.dialect'>\n"
     ]
    }
   ],
   "source": [
    "file_path = '../../../Standard_Comparaison/Silane.csv'\n",
    "# file_path = '../../../Standard_Comparaison/Export/Test/Raw_datas/Composition.csv'\n",
    "with open(file_path, 'r') as f:\n",
    "    print(f.encoding)\n",
    "    dialect = sniff.sniff(f.read(4096), delimiters=';, \\t')\n",
    "    print(dialect)\n",
    "# data = pd.read_csv(file_path, dialect=dialect, encoding=f.encoding, index_col=[0, ])\n",
    "data = pd.read_csv(file_path, dialect=dialect, encoding=f.encoding, )\n",
    "# data['MatCode'] = data.MatCode.astype('Float64')\n",
    "# data.loc[6, 'MatCode'] = '*'"
   ]
  },
  {
   "cell_type": "code",
   "execution_count": 118,
   "metadata": {},
   "outputs": [
    {
     "data": {
      "text/plain": [
       "True"
      ]
     },
     "execution_count": 118,
     "metadata": {},
     "output_type": "execute_result"
    }
   ],
   "source": [
    "dict([(1, 1)]) is not dict([(1, 1)])"
   ]
  },
  {
   "cell_type": "code",
   "execution_count": 112,
   "metadata": {},
   "outputs": [
    {
     "data": {
      "text/html": [
       "<div>\n",
       "<style scoped>\n",
       "    .dataframe tbody tr th:only-of-type {\n",
       "        vertical-align: middle;\n",
       "    }\n",
       "\n",
       "    .dataframe tbody tr th {\n",
       "        vertical-align: top;\n",
       "    }\n",
       "\n",
       "    .dataframe thead th {\n",
       "        text-align: right;\n",
       "    }\n",
       "</style>\n",
       "<table border=\"1\" class=\"dataframe\">\n",
       "  <thead>\n",
       "    <tr style=\"text-align: right;\">\n",
       "      <th></th>\n",
       "      <th>NGS</th>\n",
       "      <th>MatCode</th>\n",
       "      <th>Synchro code</th>\n",
       "      <th>Material name</th>\n",
       "      <th>Creation date</th>\n",
       "      <th>Material Type</th>\n",
       "      <th>Product Class</th>\n",
       "      <th>Product Categoy</th>\n",
       "      <th>Product Type</th>\n",
       "      <th>Supplier</th>\n",
       "      <th>...</th>\n",
       "      <th>Silan's feet</th>\n",
       "      <th>Silan's sulfur</th>\n",
       "      <th>Additiv molar mass</th>\n",
       "      <th>Functionality</th>\n",
       "      <th>Purity</th>\n",
       "      <th>Melting point</th>\n",
       "      <th>Decomposition temperature</th>\n",
       "      <th>Filler amount</th>\n",
       "      <th>Filler type</th>\n",
       "      <th>Commentaire</th>\n",
       "    </tr>\n",
       "  </thead>\n",
       "  <tbody>\n",
       "    <tr>\n",
       "      <th>0</th>\n",
       "      <td>DRY SILANE XT</td>\n",
       "      <td>12132.0</td>\n",
       "      <td>PC05812</td>\n",
       "      <td>DRY SILANE XT</td>\n",
       "      <td>2004-09-13 00:00:00</td>\n",
       "      <td>PC-PRODUITS CHIMIQUES SERIES A ET B</td>\n",
       "      <td>12-AGENTS AUTRES</td>\n",
       "      <td>124-AGENTS DE LIAISON</td>\n",
       "      <td>1240-SILANES</td>\n",
       "      <td>-</td>\n",
       "      <td>...</td>\n",
       "      <td>3</td>\n",
       "      <td>0.00</td>\n",
       "      <td>364.6</td>\n",
       "      <td>1</td>\n",
       "      <td>0.460</td>\n",
       "      <td>&lt;-70</td>\n",
       "      <td>NaN</td>\n",
       "      <td>NaN</td>\n",
       "      <td>NaN</td>\n",
       "      <td>silane NXT sur N330, octanethioate de S-(3-(tr...</td>\n",
       "    </tr>\n",
       "    <tr>\n",
       "      <th>1</th>\n",
       "      <td>SILANE MONOETH</td>\n",
       "      <td>12210.0</td>\n",
       "      <td>PC05346</td>\n",
       "      <td>SILANE MONOETH</td>\n",
       "      <td>2001-09-11 00:00:00</td>\n",
       "      <td>PC-PRODUITS CHIMIQUES SERIES A ET B</td>\n",
       "      <td>12-AGENTS AUTRES</td>\n",
       "      <td>124-AGENTS DE LIAISON</td>\n",
       "      <td>1240-SILANES</td>\n",
       "      <td>-</td>\n",
       "      <td>...</td>\n",
       "      <td>2</td>\n",
       "      <td>1.70</td>\n",
       "      <td>409.2</td>\n",
       "      <td>1</td>\n",
       "      <td>0.620</td>\n",
       "      <td>-70</td>\n",
       "      <td>&gt; 250Â°C</td>\n",
       "      <td>NaN</td>\n",
       "      <td>NaN</td>\n",
       "      <td>Polysulfure de dimÃ©thylmonoethoxysilylpropyl....</td>\n",
       "    </tr>\n",
       "    <tr>\n",
       "      <th>2</th>\n",
       "      <td>SILANE X75S</td>\n",
       "      <td>86288.0</td>\n",
       "      <td>PC05126</td>\n",
       "      <td>SILANE X75S</td>\n",
       "      <td>2000-04-10 00:00:00</td>\n",
       "      <td>PC-PRODUITS CHIMIQUES SERIES A ET B</td>\n",
       "      <td>12-AGENTS AUTRES</td>\n",
       "      <td>124-AGENTS DE LIAISON</td>\n",
       "      <td>1240-SILANES</td>\n",
       "      <td>-</td>\n",
       "      <td>...</td>\n",
       "      <td>6</td>\n",
       "      <td>0.35</td>\n",
       "      <td>486.1</td>\n",
       "      <td>2</td>\n",
       "      <td>0.480</td>\n",
       "      <td>-117</td>\n",
       "      <td>&gt;250</td>\n",
       "      <td>NaN</td>\n",
       "      <td>NaN</td>\n",
       "      <td>Si75 supportÃ© sur noir, 50/50, masse molaire ...</td>\n",
       "    </tr>\n",
       "    <tr>\n",
       "      <th>3</th>\n",
       "      <td>SILANE SI75</td>\n",
       "      <td>55963.0</td>\n",
       "      <td>CH03917</td>\n",
       "      <td>SILANE SI75</td>\n",
       "      <td>1999-05-10 00:00:00</td>\n",
       "      <td>CH-CHARGES RENFORCANTES</td>\n",
       "      <td>12-AGENTS AUTRES</td>\n",
       "      <td>124-AGENTS DE LIAISON</td>\n",
       "      <td>1240-SILANES</td>\n",
       "      <td>-</td>\n",
       "      <td>...</td>\n",
       "      <td>6</td>\n",
       "      <td>0.35</td>\n",
       "      <td>486.1</td>\n",
       "      <td>2</td>\n",
       "      <td>0.960</td>\n",
       "      <td>-117</td>\n",
       "      <td>&gt;150</td>\n",
       "      <td>NaN</td>\n",
       "      <td>NaN</td>\n",
       "      <td>masse molaire avec 2,35 atomes de soufre par m...</td>\n",
       "    </tr>\n",
       "    <tr>\n",
       "      <th>4</th>\n",
       "      <td>LIQUID SILANE 69</td>\n",
       "      <td>14035.0</td>\n",
       "      <td>PC02409</td>\n",
       "      <td>LIQUID SILANE 69</td>\n",
       "      <td>1987-09-07 00:00:00</td>\n",
       "      <td>PC-PRODUITS CHIMIQUES SERIES A ET B</td>\n",
       "      <td>12-AGENTS AUTRES</td>\n",
       "      <td>124-AGENTS DE LIAISON</td>\n",
       "      <td>1240-SILANES</td>\n",
       "      <td>-</td>\n",
       "      <td>...</td>\n",
       "      <td>6</td>\n",
       "      <td>1.60</td>\n",
       "      <td>526.1</td>\n",
       "      <td>2</td>\n",
       "      <td>0.950</td>\n",
       "      <td>-80</td>\n",
       "      <td>&gt; 250Â°C</td>\n",
       "      <td>NaN</td>\n",
       "      <td>NaN</td>\n",
       "      <td>puretÃ© sur produit Degussa/Evonik - voir CR X...</td>\n",
       "    </tr>\n",
       "    <tr>\n",
       "      <th>5</th>\n",
       "      <td>DRY SILANE 69</td>\n",
       "      <td>14101.0</td>\n",
       "      <td>PC02211</td>\n",
       "      <td>DRY SILANE 69</td>\n",
       "      <td>1984-06-18 00:00:00</td>\n",
       "      <td>PC-PRODUITS CHIMIQUES SERIES A ET B</td>\n",
       "      <td>12-AGENTS AUTRES</td>\n",
       "      <td>124-AGENTS DE LIAISON</td>\n",
       "      <td>1240-SILANES</td>\n",
       "      <td>-</td>\n",
       "      <td>...</td>\n",
       "      <td>6</td>\n",
       "      <td>1.60</td>\n",
       "      <td>526.1</td>\n",
       "      <td>2</td>\n",
       "      <td>0.475</td>\n",
       "      <td>-80</td>\n",
       "      <td>&gt; 250Â°C</td>\n",
       "      <td>0.525</td>\n",
       "      <td>NaN</td>\n",
       "      <td>silane supportÃ© sur noir de carbone 50/50. %S...</td>\n",
       "    </tr>\n",
       "    <tr>\n",
       "      <th>6</th>\n",
       "      <td>Si69</td>\n",
       "      <td>NaN</td>\n",
       "      <td>NaN</td>\n",
       "      <td>NaN</td>\n",
       "      <td>NaN</td>\n",
       "      <td>NaN</td>\n",
       "      <td>NaN</td>\n",
       "      <td>NaN</td>\n",
       "      <td>NaN</td>\n",
       "      <td>NaN</td>\n",
       "      <td>...</td>\n",
       "      <td>6</td>\n",
       "      <td>1.60</td>\n",
       "      <td>526.1</td>\n",
       "      <td>2</td>\n",
       "      <td>0.950</td>\n",
       "      <td>-80</td>\n",
       "      <td>&gt; 250Â°C</td>\n",
       "      <td>NaN</td>\n",
       "      <td>NaN</td>\n",
       "      <td>NaN</td>\n",
       "    </tr>\n",
       "  </tbody>\n",
       "</table>\n",
       "<p>7 rows × 23 columns</p>\n",
       "</div>"
      ],
      "text/plain": [
       "                NGS  MatCode Synchro code     Material name  \\\n",
       "0     DRY SILANE XT  12132.0      PC05812     DRY SILANE XT   \n",
       "1    SILANE MONOETH  12210.0      PC05346    SILANE MONOETH   \n",
       "2       SILANE X75S  86288.0      PC05126       SILANE X75S   \n",
       "3       SILANE SI75  55963.0      CH03917       SILANE SI75   \n",
       "4  LIQUID SILANE 69  14035.0      PC02409  LIQUID SILANE 69   \n",
       "5     DRY SILANE 69  14101.0      PC02211     DRY SILANE 69   \n",
       "6              Si69      NaN          NaN               NaN   \n",
       "\n",
       "         Creation date                        Material Type     Product Class  \\\n",
       "0  2004-09-13 00:00:00  PC-PRODUITS CHIMIQUES SERIES A ET B  12-AGENTS AUTRES   \n",
       "1  2001-09-11 00:00:00  PC-PRODUITS CHIMIQUES SERIES A ET B  12-AGENTS AUTRES   \n",
       "2  2000-04-10 00:00:00  PC-PRODUITS CHIMIQUES SERIES A ET B  12-AGENTS AUTRES   \n",
       "3  1999-05-10 00:00:00              CH-CHARGES RENFORCANTES  12-AGENTS AUTRES   \n",
       "4  1987-09-07 00:00:00  PC-PRODUITS CHIMIQUES SERIES A ET B  12-AGENTS AUTRES   \n",
       "5  1984-06-18 00:00:00  PC-PRODUITS CHIMIQUES SERIES A ET B  12-AGENTS AUTRES   \n",
       "6                  NaN                                  NaN               NaN   \n",
       "\n",
       "         Product Categoy  Product Type Supplier  ...  Silan's feet  \\\n",
       "0  124-AGENTS DE LIAISON  1240-SILANES        -  ...             3   \n",
       "1  124-AGENTS DE LIAISON  1240-SILANES        -  ...             2   \n",
       "2  124-AGENTS DE LIAISON  1240-SILANES        -  ...             6   \n",
       "3  124-AGENTS DE LIAISON  1240-SILANES        -  ...             6   \n",
       "4  124-AGENTS DE LIAISON  1240-SILANES        -  ...             6   \n",
       "5  124-AGENTS DE LIAISON  1240-SILANES        -  ...             6   \n",
       "6                    NaN           NaN      NaN  ...             6   \n",
       "\n",
       "   Silan's sulfur  Additiv molar mass  Functionality  Purity  Melting point  \\\n",
       "0            0.00               364.6              1   0.460           <-70   \n",
       "1            1.70               409.2              1   0.620            -70   \n",
       "2            0.35               486.1              2   0.480           -117   \n",
       "3            0.35               486.1              2   0.960           -117   \n",
       "4            1.60               526.1              2   0.950            -80   \n",
       "5            1.60               526.1              2   0.475            -80   \n",
       "6            1.60               526.1              2   0.950            -80   \n",
       "\n",
       "   Decomposition temperature  Filler amount Filler type  \\\n",
       "0                        NaN            NaN         NaN   \n",
       "1                   > 250Â°C            NaN         NaN   \n",
       "2                       >250            NaN         NaN   \n",
       "3                       >150            NaN         NaN   \n",
       "4                   > 250Â°C            NaN         NaN   \n",
       "5                   > 250Â°C          0.525         NaN   \n",
       "6                   > 250Â°C            NaN         NaN   \n",
       "\n",
       "                                         Commentaire  \n",
       "0  silane NXT sur N330, octanethioate de S-(3-(tr...  \n",
       "1  Polysulfure de dimÃ©thylmonoethoxysilylpropyl....  \n",
       "2  Si75 supportÃ© sur noir, 50/50, masse molaire ...  \n",
       "3  masse molaire avec 2,35 atomes de soufre par m...  \n",
       "4  puretÃ© sur produit Degussa/Evonik - voir CR X...  \n",
       "5  silane supportÃ© sur noir de carbone 50/50. %S...  \n",
       "6                                                NaN  \n",
       "\n",
       "[7 rows x 23 columns]"
      ]
     },
     "execution_count": 112,
     "metadata": {},
     "output_type": "execute_result"
    }
   ],
   "source": [
    "data"
   ]
  },
  {
   "cell_type": "code",
   "execution_count": 107,
   "metadata": {},
   "outputs": [],
   "source": [
    "from pandasgui import show"
   ]
  },
  {
   "cell_type": "code",
   "execution_count": 108,
   "metadata": {},
   "outputs": [
    {
     "data": {
      "text/plain": [
       "<pandasgui.gui.PandasGui at 0x1ef0a5ad3a0>"
      ]
     },
     "execution_count": 108,
     "metadata": {},
     "output_type": "execute_result"
    }
   ],
   "source": [
    "show(data)"
   ]
  },
  {
   "cell_type": "code",
   "execution_count": null,
   "metadata": {},
   "outputs": [],
   "source": [
    "new_data = data.copy()"
   ]
  },
  {
   "cell_type": "code",
   "execution_count": null,
   "metadata": {},
   "outputs": [],
   "source": [
    "column_dtypes = data.dtypes"
   ]
  },
  {
   "cell_type": "code",
   "execution_count": null,
   "metadata": {
    "scrolled": true
   },
   "outputs": [],
   "source": [
    "data.MatCode.map(type)"
   ]
  },
  {
   "cell_type": "code",
   "execution_count": 83,
   "metadata": {},
   "outputs": [],
   "source": [
    "columns = pd.MultiIndex.from_tuples([(f'level_0_{i}', f'level_1_{j}', f'level_2_{k}') for i in range(2) for j in range(3) for k in range(5)])\n",
    "columns = np.array([np.array(value) for value in columns])"
   ]
  },
  {
   "cell_type": "code",
   "execution_count": 77,
   "metadata": {},
   "outputs": [],
   "source": [
    "def recursive_add(levels, mapping):\n",
    "    if levels.shape[1] > 1:\n",
    "        outer_level = levels[:, 0]\n",
    "        unique_levels = np.unique(outer_level)\n",
    "        for level in unique_levels:\n",
    "            inner_levels = levels[outer_level == level, 1:]\n",
    "            if inner_levels.shape[1] > 1:\n",
    "                mapping[level] = dict()\n",
    "            else:\n",
    "                mapping[level] = list()\n",
    "            recursive_add(inner_levels, mapping[level])\n",
    "    else:\n",
    "        for level in np.unique(levels):\n",
    "            mapping.append(level)"
   ]
  },
  {
   "cell_type": "code",
   "execution_count": 78,
   "metadata": {},
   "outputs": [],
   "source": [
    "col_dict = dict()\n",
    "recursive_add(columns, col_dict)"
   ]
  },
  {
   "cell_type": "code",
   "execution_count": 79,
   "metadata": {},
   "outputs": [
    {
     "data": {
      "text/plain": [
       "{'level_0_0': {'level_1_0': ['level_2_0',\n",
       "   'level_2_1',\n",
       "   'level_2_2',\n",
       "   'level_2_3',\n",
       "   'level_2_4'],\n",
       "  'level_1_1': ['level_2_0',\n",
       "   'level_2_1',\n",
       "   'level_2_2',\n",
       "   'level_2_3',\n",
       "   'level_2_4'],\n",
       "  'level_1_2': ['level_2_0',\n",
       "   'level_2_1',\n",
       "   'level_2_2',\n",
       "   'level_2_3',\n",
       "   'level_2_4']},\n",
       " 'level_0_1': {'level_1_0': ['level_2_0',\n",
       "   'level_2_1',\n",
       "   'level_2_2',\n",
       "   'level_2_3',\n",
       "   'level_2_4'],\n",
       "  'level_1_1': ['level_2_0',\n",
       "   'level_2_1',\n",
       "   'level_2_2',\n",
       "   'level_2_3',\n",
       "   'level_2_4'],\n",
       "  'level_1_2': ['level_2_0',\n",
       "   'level_2_1',\n",
       "   'level_2_2',\n",
       "   'level_2_3',\n",
       "   'level_2_4']}}"
      ]
     },
     "execution_count": 79,
     "metadata": {},
     "output_type": "execute_result"
    }
   ],
   "source": [
    "col_dict"
   ]
  },
  {
   "cell_type": "code",
   "execution_count": 93,
   "metadata": {},
   "outputs": [
    {
     "data": {
      "text/plain": [
       "True"
      ]
     },
     "execution_count": 93,
     "metadata": {},
     "output_type": "execute_result"
    }
   ],
   "source": [
    "isinstance(pd.Index([]), pd.Index)"
   ]
  },
  {
   "cell_type": "code",
   "execution_count": null,
   "metadata": {},
   "outputs": [],
   "source": []
  },
  {
   "cell_type": "code",
   "execution_count": null,
   "metadata": {},
   "outputs": [],
   "source": [
    "columns = columns[np.random.randint(0, len(columns), size=len(columns))]"
   ]
  },
  {
   "cell_type": "code",
   "execution_count": null,
   "metadata": {},
   "outputs": [],
   "source": [
    "df = pd.DataFrame(np.random.rand(3, len(columns)),)"
   ]
  },
  {
   "cell_type": "code",
   "execution_count": null,
   "metadata": {},
   "outputs": [],
   "source": [
    "df.columns = df.columns.astype(str)"
   ]
  },
  {
   "cell_type": "code",
   "execution_count": null,
   "metadata": {
    "scrolled": true
   },
   "outputs": [],
   "source": [
    "df = pd.DataFrame(np.random.rand(3, len(columns)), columns=columns)\n",
    "\n",
    "# get levels \n",
    "# nlevels = df.columns.nlevels\n",
    "def _get_spans(index: Union[pd.Index, pd.MultiIndex]):\n",
    "    if isinstance(index, pd.MultiIndex):\n",
    "        levels = np.stack([np.array(value) for value in index]).T\n",
    "    elif isinstance(index, pd.Index):\n",
    "        levels = np.array([df.columns])\n",
    "\n",
    "    for nlevel, level in enumerate(levels):\n",
    "        # detect where level are discontinuous\n",
    "        spans = list(np.where(level[1:] != level[:-1])[0])\n",
    "        # add the first and last cell if necessary\n",
    "        if 0 not in spans:\n",
    "            spans.insert(0, -1)\n",
    "        if len(level) - 1 not in spans:\n",
    "            spans.append(len(level) - 1)\n",
    "        # only check if span if larger thant one cell\n",
    "        for n in np.where(np.diff(list(spans)) > 1)[0]:\n",
    "            print(spans[n]+1, spans[n+1])\n",
    "            \n",
    "_get_spans(df.columns)"
   ]
  },
  {
   "cell_type": "code",
   "execution_count": null,
   "metadata": {},
   "outputs": [],
   "source": [
    "if isinstance(df.columns, pd.MultiIndex):\n",
    "    N = len(df.columns[0])\n",
    "else:\n",
    "    N = 1\n",
    "\n",
    "for level in range(N):  # Iterates over the levels\n",
    "#     print(level)\n",
    "    # Find how many segments the MultiIndex has\n",
    "    if isinstance(df.columns, pd.MultiIndex):\n",
    "        arr = [df.columns[i][level] for i in range(len(df.columns))]\n",
    "    else:\n",
    "        arr = df.columns\n",
    "        \n",
    "    print(arr)\n",
    "\n",
    "    # Holds the starting index of a range of equal values.\n",
    "    # None means it is not currently in a range of equal values.\n",
    "    match_start = None\n",
    "\n",
    "    for col in range(1, len(arr)):  # Iterates over cells in row\n",
    "        # Check if cell matches cell to its left\n",
    "        if arr[col] == arr[col - 1]:\n",
    "            if match_start is None:\n",
    "                match_start = col - 1\n",
    "            # If this is the last cell, need to end it\n",
    "            if col == len(arr) - 1:\n",
    "                match_end = col\n",
    "                span_size = match_end - match_start + 1\n",
    "#                 self.setSpan(level, match_start, 1, span_size)\n",
    "                print(match_start, match_end)\n",
    "        else:\n",
    "            if match_start is not None:\n",
    "                match_end = col - 1\n",
    "                span_size = match_end - match_start + 1\n",
    "#                 self.setSpan(level, match_start, 1, span_size)\n",
    "                print(match_start, match_end)            \n",
    "                match_start = None\n"
   ]
  },
  {
   "cell_type": "markdown",
   "metadata": {},
   "source": [
    "- attempt to cast to out_type\n",
    "- if cast to str, just do\n",
    "    na type for str ?\n",
    "- if cast to numeric :\n",
    "    - pd.to_numeric with coerce to detect potential issue and store them\n",
    "    - cast to out_type"
   ]
  },
  {
   "cell_type": "code",
   "execution_count": null,
   "metadata": {},
   "outputs": [],
   "source": [
    "new_data.MatCode == data.MatCode.astype(int)"
   ]
  },
  {
   "cell_type": "code",
   "execution_count": null,
   "metadata": {},
   "outputs": [],
   "source": [
    "new_data"
   ]
  },
  {
   "cell_type": "markdown",
   "metadata": {},
   "source": [
    "# Import ?"
   ]
  },
  {
   "cell_type": "code",
   "execution_count": null,
   "metadata": {},
   "outputs": [],
   "source": [
    "import os, glob\n",
    "from os import walk\n",
    "from os.path import dirname, join, isfile, basename, isdir, exists, normpath"
   ]
  },
  {
   "cell_type": "code",
   "execution_count": null,
   "metadata": {},
   "outputs": [],
   "source": [
    "basefolder = dirname('./nodes/__init__.py')"
   ]
  },
  {
   "cell_type": "code",
   "execution_count": null,
   "metadata": {},
   "outputs": [],
   "source": [
    "modules = []\n",
    "for path in glob.glob(join(basefolder, '*')):\n",
    "    if isfile(path) and not path.endswith('__init__.py'):\n",
    "        modules.append(basename(path)[:-3])\n",
    "    elif isdir(path) and exists(join(path, '__init__.py')):\n",
    "        modules.append(normpath(basename(path)))"
   ]
  },
  {
   "cell_type": "code",
   "execution_count": null,
   "metadata": {},
   "outputs": [],
   "source": [
    "modules"
   ]
  },
  {
   "cell_type": "code",
   "execution_count": null,
   "metadata": {},
   "outputs": [],
   "source": [
    "import xml.etree.ElementTree as ET\n",
    "import re\n",
    "import pandas as pd"
   ]
  },
  {
   "cell_type": "code",
   "execution_count": null,
   "metadata": {},
   "outputs": [],
   "source": [
    "pd.read_csv('./Stats/Prop_dyn_generation/Models/Latent_description.csv', index_col=[0]).loc['80%']*pd.DataFrame([[0.5]*6])"
   ]
  },
  {
   "cell_type": "code",
   "execution_count": null,
   "metadata": {},
   "outputs": [],
   "source": [
    "def parse_gpx(file):\n",
    "    tree = ET.parse(file)\n",
    "    root = tree.getroot()\n",
    "    try:\n",
    "        ns = re.match('\\{.*\\}', root.tag).group(0)\n",
    "    except:\n",
    "        ns = ''\n",
    "\n",
    "    coords = {'lat': [], 'lon': [], 'ele': [], 'time': []}\n",
    "    # Itère sur chaque point du trajet\n",
    "    for element in tree.iter(ns+'trkpt'):\n",
    "        coords['lat'].append(element.attrib['lat'])\n",
    "        coords['lon'].append(element.attrib['lon'])\n",
    "        child = element.getchildren()\n",
    "        for value in child:\n",
    "            if value.tag == ns+'ele': coords['ele'].append(value.text)\n",
    "            if value.tag == ns+'time': coords['time'].append(value.text)\n",
    "                \n",
    "    return pd.DataFrame(coords).apply(pd.to_numeric, errors='ignore')"
   ]
  },
  {
   "cell_type": "code",
   "execution_count": null,
   "metadata": {},
   "outputs": [],
   "source": [
    "file = 'F:/Downloads/Randonnée/iti0584_crete_du_sancy.gpx'\n",
    "coords = parse_gpx(file)"
   ]
  },
  {
   "cell_type": "code",
   "execution_count": null,
   "metadata": {},
   "outputs": [],
   "source": [
    "from plotly.offline import download_plotlyjs, init_notebook_mode, plot, iplot\n",
    "from plotly.graph_objs import *\n",
    "init_notebook_mode(connected=True)\n",
    "plotly_config = {'showLink': False, 'displaylogo': False, 'modeBarButtonsToRemove': ['sendDataToCloud']}"
   ]
  },
  {
   "cell_type": "code",
   "execution_count": null,
   "metadata": {
    "code_folding": []
   },
   "outputs": [],
   "source": [
    "data = [dict(\n",
    "            type = 'scattergeo',\n",
    "            locationmode = 'USA-states',\n",
    "            lon = coords['lon'],\n",
    "            lat = coords['lat'],\n",
    "            mode = 'lines',\n",
    "            line = dict(\n",
    "                width = 1,\n",
    "                color = 'red',\n",
    "            )\n",
    "        )]\n",
    "layout = dict(\n",
    "        title = file,\n",
    "        showlegend = False, \n",
    "        geo = dict(\n",
    "            scope='europe',\n",
    "            projection=dict( type='azimuthal equal area' ),\n",
    "            showland = True,\n",
    "            landcolor = 'rgb(243, 243, 243)',\n",
    "            countrycolor = 'rgb(204, 204, 204)',\n",
    "        ),\n",
    "    )\n",
    "    \n",
    "fig = dict( data=data, layout=layout )\n",
    "iplot(fig, filename='d3-flight-paths', config=plotly_config)"
   ]
  },
  {
   "cell_type": "code",
   "execution_count": null,
   "metadata": {},
   "outputs": [],
   "source": [
    "import pilllow"
   ]
  },
  {
   "cell_type": "code",
   "execution_count": null,
   "metadata": {},
   "outputs": [],
   "source": []
  }
 ],
 "metadata": {
  "kernelspec": {
   "display_name": "Python 3",
   "language": "python",
   "name": "python3"
  },
  "language_info": {
   "codemirror_mode": {
    "name": "ipython",
    "version": 3
   },
   "file_extension": ".py",
   "mimetype": "text/x-python",
   "name": "python",
   "nbconvert_exporter": "python",
   "pygments_lexer": "ipython3",
   "version": "3.9.0"
  },
  "toc": {
   "base_numbering": 1,
   "nav_menu": {},
   "number_sections": true,
   "sideBar": true,
   "skip_h1_title": false,
   "title_cell": "Table of Contents",
   "title_sidebar": "Contents",
   "toc_cell": false,
   "toc_position": {},
   "toc_section_display": true,
   "toc_window_display": false
  }
 },
 "nbformat": 4,
 "nbformat_minor": 2
}
